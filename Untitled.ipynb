{
 "cells": [
  {
   "cell_type": "code",
   "execution_count": 1,
   "id": "0ac3bdaa",
   "metadata": {},
   "outputs": [
    {
     "name": "stdout",
     "output_type": "stream",
     "text": [
      "6\n"
     ]
    }
   ],
   "source": [
    "N = ord(\"A\") % 10 + 1;\n",
    "print(N);"
   ]
  },
  {
   "cell_type": "code",
   "execution_count": 36,
   "id": "3deb1925",
   "metadata": {},
   "outputs": [
    {
     "name": "stdout",
     "output_type": "stream",
     "text": [
      "input start 3\n",
      "input finish 15\n",
      "[3, 4, 5, 6, 7, 8, 9, 10, 11, 12, 13, 14]\n",
      "3\n",
      "5\n",
      "7\n",
      "11\n",
      "13\n"
     ]
    }
   ],
   "source": [
    "def is_prime(n):\n",
    "    if n <= 1:\n",
    "        return False\n",
    "    for i in range(2, int(n**0.5)+1):\n",
    "        if n % i == 0:\n",
    "            return False\n",
    "    return True\n",
    "\n",
    "start = int(input(\"input start \"));\n",
    "finish = int(input(\"input finish \"));\n",
    "prime = list(range(start,finish))\n",
    "\n",
    "print(prime)\n",
    "\n",
    "for i in range(len(prime)):\n",
    "    flag = is_prime(prime[i]);\n",
    "    if flag == True:\n",
    "        print(prime[i])\n",
    "    \n",
    "\n"
   ]
  },
  {
   "cell_type": "code",
   "execution_count": null,
   "id": "479e74fc",
   "metadata": {},
   "outputs": [],
   "source": []
  },
  {
   "cell_type": "code",
   "execution_count": 34,
   "id": "1a625ee6",
   "metadata": {},
   "outputs": [
    {
     "data": {
      "text/html": [
       "<svg width=\"200\" height=\"150\" xmlns=\"http://www.w3.org/2000/svg\">\n",
       "  <rect x=\"0\" y=\"0\" width=\"200\" height=\"50\" fill=\"black\"/>\n",
       "  <rect x=\"0\" y=\"50\" width=\"200\" height=\"50\" fill=\"white\"/>\n",
       "  <rect x=\"0\" y=\"100\" width=\"200\" height=\"50\" fill=\"#138808\"/>\n",
       "  <polygon points=\"0,0 0,150 100,75\" fill=\"red\"/>\n",
       "  <polygon points=\"60,65 62.14,69.41 67,68 64.52,72.99 68.5,76.5 64.12,77.58 64,82 60.03,78.65 56,82 55.73,77.58 51.5,76.5 55.47,72.60 53,68 57.91,69.41\" style=\"fill: white;\" />\n",
       "</svg>\n"
      ],
      "text/plain": [
       "<IPython.core.display.HTML object>"
      ]
     },
     "metadata": {},
     "output_type": "display_data"
    }
   ],
   "source": [
    "%%HTML\n",
    "<svg width=\"200\" height=\"150\" xmlns=\"http://www.w3.org/2000/svg\">\n",
    "  <rect x=\"0\" y=\"0\" width=\"200\" height=\"50\" fill=\"black\"/>\n",
    "  <rect x=\"0\" y=\"50\" width=\"200\" height=\"50\" fill=\"white\"/>\n",
    "  <rect x=\"0\" y=\"100\" width=\"200\" height=\"50\" fill=\"#138808\"/>\n",
    "  <polygon points=\"0,0 0,150 100,75\" fill=\"red\"/>\n",
    "  <polygon points=\"60,65 62.14,69.41 67,68 64.52,72.99 68.5,76.5 64.12,77.58 64,82 60.03,78.65 56,82 55.73,77.58 51.5,76.5 55.47,72.60 53,68 57.91,69.41\" style=\"fill: white;\" />\n",
    "</svg>\n"
   ]
  },
  {
   "cell_type": "markdown",
   "id": "471b6416",
   "metadata": {},
   "source": [
    "import os\n",
    "os.getcwd()"
   ]
  },
  {
   "cell_type": "markdown",
   "id": "6a8899a8",
   "metadata": {},
   "source": [
    "# Йорданія\n",
    "## Географія\n",
    "### Населення\n",
    "\n",
    "   *Йорданія- держава в Південно-Західній Азії,* **що межує з Сирією, Ізраїлем, Саудівською Аравією,** ***Іраком та Палестинськими територіями.*** ~~Амман- столиця та найбільше місто країни.~~\n",
    "    \n",
    "   <span style=\"color: red\">Йорданія є конституційною монархією</span>\n",
    "   \n",
    "   <span style=\"color: blue\">Офіційна мова - арабська</span>\n",
    "    \n",
    "   <kbd>Зміст</kbd>\n",
    "    \n",
    "   |   Місто  | Населення|\n",
    "   |----------|----------|\n",
    "   | Амман    | 4,007,526|\n",
    "   | Зарка    | 2,039,725|\n",
    "   \n",
    "   1. Географія,\n",
    "       - [Розташування](https://uk.wikipedia.org/wiki/%D0%99%D0%BE%D1%80%D0%B4%D0%B0%D0%BD%D1%96%D1%8F#%D0%9A%D0%BB%D1%96%D0%BC%D0%B0%D1%82),\n",
    "        2. \n",
    "        - [Клімат](https://uk.wikipedia.org/wiki/%D0%99%D0%BE%D1%80%D0%B4%D0%B0%D0%BD%D1%96%D1%8F#%D0%9A%D0%BB%D1%96%D0%BC%D0%B0%D1%82),\n",
    "  \n",
    "   \n",
    "<img src=\"data:image/png;base64,iVBORw0KGgoAAAANSUhEUgAAAT4AAACfCAMAAABX0UX9AAAAmVBMVEUAAAAAej3OESb///8AbR/NAB3RDCYAfD3LAAAAfz6tDiDWACStLytCaTnWEidCBQzYV2H12dvZW2T44uTMAAvMABHMABbjjpT88fLqrbH++frYVWDooqc/BQtFBgzVAB/la3TQHzHyzc/VRlHklZvdbnftt7vSMkDhg4rwxcjTO0jppqvaYGnz0NL12tz56OnvvcHffoXlZHJFSJA/AAAEKUlEQVR4nO3cW1faQBSG4XTS0Kk92ZIgKG1FxKJibfv/f1wJGuSQw0z27MSZ/b0XLi/MWvismR2UJNHJ9wi1b/D55Effr8HjlFoDfun7VXibUgAkpBQACSm1BcQMtE+pHUCsQNuUAiAhpQBISKkjQMxA8w75AGjVMR+2sEVlfAA0rpwPgIZV8WEGGlXNhxVoUB0fABur5wNgQ018mIG1NfMBsCYTPmzhysz4AFiRKR8ASzPnwwwsyYYPK/AoOz4AHmTLB8C97PkwA3dqwwfAbe34sIWfa8sHwE3t+bCFIxofAIl84rcwlU84IJ1PNKALPsEz0A2f2BXoik8ooDs+kYAu+QTOQLd84gBd8wnbwu75RAFy8AkC5OETMwO5+ISsQD4+EYCcfAIAefmCn4HcfIED8vMFvYW74NsAhvnMhG741oA/L4dxcHXGp1SiT7/2/eu6rkO+HPBbYICd8oUH2DFfDngREGDnfGHNwB74QgLshS+cGdgTXygrsDe+ME4iPfKFsAJ75fN/BvbM5ztg73x+z0B7voQD0NcZaM03WzH4eQtoyzc6u9IMfL7OQFs+PYzVgMXPyxVozJds9mwyj+PrLP9uwDIDfTuJmPIliwudJiq9ieNHrZJM/1piBprzDe7i8c0q1efrY071fDqMz0YMfL7NQOPNqyfrnz7f/GbDx3izBpnyaQWanzpG53sHnnLs3S2gLzPQnC9b7h53y7b4NvmyAi3euOjdz2lnTO9etvkxAy02b/Lwcth4zrv68nwAND7z6sX+7JtqxuH3XKaXFS/7tWTIN0puD498vEt58cJZfcmi7Ngp5/rzAc+Ub3B3sby/2jl1jB8mZ6s5J15QZ95BMsq0viyOmmidjhK2k2+I7/vyf1YVR7G+6/Nl5eXZ8GXT9QEP+ZfffHx+zLwiG750kq87fc34B69PKy/Piu9PfLN203/jMc97Fn9mXpENnx7eb1Zduorxv76nbPiSxfOezVYzBjyfZl6R1WcdydE37vD8W3l5r+Bjcn/xXgWffyeMl3rn83PmFeEKK1K4vo8Uri4lhWubSeHKelK4r4MU7ioihXvaSOGOSlK4n5cU7iYn1eGzDP7hWQat8T58/PT+bXh18xyXHO/dmwDr4ilCweJ1wBcyHjtf2HjMfKHjsfKFj8fIJwGPjU8GHhOfFDwWPjl4DHyS8JzzycJzzCcNzymfPDyHfBLxnPHJxHPEJxXPCZ9cPAd8kvHIfLLxiHzS8Uh8wCPwAS+vJR/wnmrFB7yiFnzAe8maD3i7WfIBbz8rPuAdZsEHvOOM+YBXlumDSIBXmhEf8Koy4ANedY18wKurgQ949dXyAa+pGj7gNVfJBzyTKviAZ1YpH/BMK+EDnnlHfMCzKQIepQh4lCLgUYqARykCHqUIeJQi4FGKgEcpAh6l/0PGOJFQFSTfAAAAAElFTkSuQmCC\">\n",
    "   "
   ]
  },
  {
   "cell_type": "markdown",
   "id": "ba25e80f",
   "metadata": {},
   "source": []
  },
  {
   "cell_type": "code",
   "execution_count": null,
   "id": "6dd1efda",
   "metadata": {},
   "outputs": [],
   "source": []
  }
 ],
 "metadata": {
  "kernelspec": {
   "display_name": "Python 3 (ipykernel)",
   "language": "python",
   "name": "python3"
  },
  "language_info": {
   "codemirror_mode": {
    "name": "ipython",
    "version": 3
   },
   "file_extension": ".py",
   "mimetype": "text/x-python",
   "name": "python",
   "nbconvert_exporter": "python",
   "pygments_lexer": "ipython3",
   "version": "3.10.4"
  }
 },
 "nbformat": 4,
 "nbformat_minor": 5
}
